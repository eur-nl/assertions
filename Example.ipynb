{
 "cells": [
  {
   "cell_type": "markdown",
   "metadata": {
    "nbgrader": {
     "grade": false,
     "grade_id": "introduction",
     "locked": true,
     "schema_version": 3,
     "solution": false,
     "task": false
    }
   },
   "source": [
    "# Instructions with the Assignments\n",
    "\n",
    "Dear student,\n",
    "\n",
    "Welcome to the programming course \"{Enter course name here}\". These assignments form the practical part of the course, to refresh your Python skills. Because *programming is doing*, these assignments form a vital part of the final grade awarded for this course. \n",
    "\n",
    "**Please note** that you are encouraged to work together on the assignments. Keep in mind, however, that *understanding* a program is much easier than *writing* a program yourself. On the exam, you will be requested to *write* Python code yourself.\n",
    "\n",
    "## A Short History\n",
    "\n",
    "In earlier editions of our courses, we relied on [repl.it](https://repl.it), where these assignments in a slightly different form, were hosted. A large upgrade at repl.it by the end of 2020 broke the auto-grading mechanism we were using up till then. It showed us our vulnerability being dependent upon an external provider. Therefore, we invested the time to copy and modify the original assignments from [Snakify](https://snakify.org/en) (the source for repl.it) to our own mechanism and have them now hosted at a server that we manage ourselves.\n",
    "\n",
    "## Jupyter Notebooks\n",
    "\n",
    "The assignments, as well as the exam, will be made on a [JupyterHub](https://jupyter.org/hub) server in the form of [Jupyter Notebooks](https://jupyter-notebook.readthedocs.io/en/stable/). Jupyter Notebooks play a key role in data science, as is explained in this 2018 [article in Nature](https://www.nature.com/articles/d41586-018-07196-1). \n",
    "\n",
    "If you are unfamiliar with Jupyter Notebooks, please have a look at [this tutorial](https://realpython.com/jupyter-notebook-introduction). If you do, please start with the section titled [Creating a Notebook](https://realpython.com/jupyter-notebook-introduction/#creating-a-notebook). Otherwise, you can also try the example below (not graded). This example has the same structure as **all** the assignments in this series.\n",
    "\n",
    "## The Assignment Structure\n",
    "Each of the assingment notebook files contains a set of assignments, which are auto-graded. For each assignment, you should start by reading the instructions in the first cell. In the second cell, you are requested to program your solution by replacing these two lines:\n",
    "```python\n",
    "# YOUR CODE HERE\n",
    "raise NotImplementedError()\n",
    "```\n",
    "with your own Python code. As long as you do not change these lines, your assignment function will raise a `NotImplementedError` error when run.\n",
    "\n",
    "The third cell, which is read-only, can be used to enter the requested values and test your assignment function. The fourth cell will be run by the auto-grading tool of the teacher. It will run a number of tests through your assignment function. Please run it yourself, as well. If you solved the assignment correctly, you will see a message like:\n",
    "```\n",
    "Well done! You seem to have solved assignment_1_1!\n",
    "```\n",
    "\n",
    "## Debugging\n",
    "Even in relatively small Python programs, you will discover that it is easy to make mistakes. To find out what the problem is, programmers often add `print()` statements at strategic places throughout their code, so that they can confirm whether their program actually reaches that location, and can inspect the current values of some variables there.\n",
    "\n",
    "However, we will use automated grading of the assignments you hand in, and that process will examine (among other things) all of the output that your program has printed. So if you have `print()` statements for debugging purposes, those might get in the way of grading!\n",
    "\n",
    "For this reason, we would like you to ensure that all of your debugging output lines start with the character `'#'`. We will disregard those lines when your work is graded. Of course, regular output lines, which are not for debugging but an integral part of your program, must *not* start with `'#'`.\n",
    "\n",
    "Example:\n",
    "```python\n",
    "def my_function(a, b):\n",
    "    print('# value of a is', a)\n",
    "    ...\n",
    "```\n",
    "\n",
    "Please note that this is only a convention within this course, and these assignments, not of Python at large.\n",
    "\n",
    "## Final instruction\n",
    "\n",
    "Before you start solving the example assignment, please press `Ctrl-Enter` in the cell below (PC) or `Command-Enter` (Mac). It will load the module needed for the auto-grading of the assignments. After you did, a number between the square brackets will appear in front of the cell, like - for example:\n",
    "```python\n",
    "In [1]:\n",
    "```\n",
    "Below the cell the following message will appear:\n",
    "```python\n",
    "Assertions imported OK\n",
    "```"
   ]
  },
  {
   "cell_type": "code",
   "execution_count": null,
   "metadata": {
    "nbgrader": {
     "grade": false,
     "grade_id": "import",
     "locked": true,
     "schema_version": 3,
     "solution": false,
     "task": false
    }
   },
   "outputs": [],
   "source": [
    "# Please run the contents of this cell.\n",
    "# Select this cell and press Ctrl-Enter (or Command-Enter on mac).\n",
    "\n",
    "from assertions import *"
   ]
  },
  {
   "cell_type": "markdown",
   "metadata": {
    "nbgrader": {
     "grade": false,
     "grade_id": "assignment-0-0-spacer",
     "locked": true,
     "schema_version": 3,
     "solution": false,
     "task": false
    }
   },
   "source": [
    "<br />\n",
    "<br />\n",
    "<br />\n",
    "<br />"
   ]
  },
  {
   "cell_type": "markdown",
   "metadata": {
    "nbgrader": {
     "grade": false,
     "grade_id": "assignment-0-0-text",
     "locked": true,
     "schema_version": 3,
     "solution": false,
     "task": false
    }
   },
   "source": [
    "# 0.0 Example assignment\n",
    "\n",
    "Every story has a beginning. This also holds for learning a programming language. It is common practice to have your first program show the following output on screen:\n",
    "```python\n",
    "Hello, world!\n",
    "```\n",
    "\n",
    "To do so, change the function (defined with the `def` keyword) below into:\n",
    "```python\n",
    "def assignment_0_0():\n",
    "    print('Hello, world!')\n",
    "```\n",
    "and press `Crtl-Enter` (PC) or `Command-Enter` (Mac). Check that a number appears between the square brackets in front of the cell.\n",
    "\n",
    "Then, select the next (test) cell and press `Crtl-Enter` (PC) or `Command-Enter` (Mac) to run the function `assignment_0_0()` and have it print its important message.\n",
    "\n",
    "Finally, run the assertion cell to see if the checking tool by the teacher will also approve of your solution. If it does, you can continue with the next assignment.\n",
    "\n",
    "Good luck!"
   ]
  },
  {
   "cell_type": "code",
   "execution_count": null,
   "metadata": {
    "nbgrader": {
     "grade": false,
     "grade_id": "assignment-0-0-code",
     "locked": false,
     "schema_version": 3,
     "solution": true,
     "task": false
    }
   },
   "outputs": [],
   "source": [
    "# Code for assignment 0.0\n",
    "\n",
    "def assignment_0_0():\n",
    "    ### BEGIN SOLUTION\n",
    "    print('Hello, world!')\n",
    "    ### END SOLUTION"
   ]
  },
  {
   "cell_type": "code",
   "execution_count": null,
   "metadata": {
    "nbgrader": {
     "grade": false,
     "grade_id": "assignment-0-0-test",
     "locked": true,
     "schema_version": 3,
     "solution": false,
     "task": false
    }
   },
   "outputs": [],
   "source": [
    "# Test for assignment 0.0\n",
    "\n",
    "# Press Ctrl-Enter (PC) or Command-Enter (Mac) after changing the function \n",
    "# above and pressing Ctrl-Enter (PC) or Command-Enter (Mac)\n",
    "\n",
    "assignment_0_0()"
   ]
  },
  {
   "cell_type": "code",
   "execution_count": null,
   "metadata": {
    "nbgrader": {
     "grade": true,
     "grade_id": "assignment-0-0-assert",
     "locked": true,
     "points": 0,
     "schema_version": 3,
     "solution": false,
     "task": false
    }
   },
   "outputs": [],
   "source": [
    "# Assertion for assignment 0.0\n",
    "\n",
    "check_assertion(assignment_0_0)"
   ]
  }
 ],
 "metadata": {
  "celltoolbar": "Create Assignment",
  "kernelspec": {
   "display_name": "Python 3 (ipykernel)",
   "language": "python",
   "name": "python3"
  },
  "language_info": {
   "codemirror_mode": {
    "name": "ipython",
    "version": 3
   },
   "file_extension": ".py",
   "mimetype": "text/x-python",
   "name": "python",
   "nbconvert_exporter": "python",
   "pygments_lexer": "ipython3",
   "version": "3.9.7"
  }
 },
 "nbformat": 4,
 "nbformat_minor": 4
}
